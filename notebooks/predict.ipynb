{
 "cells": [
  {
   "cell_type": "code",
   "execution_count": null,
   "metadata": {},
   "outputs": [],
   "source": [
    "import pdfplumber\n",
    "import pandas as pd\n",
    "import numpy as np\n",
    "\n",
    "# Đọc file PDF\n",
    "file_path = \"../data/data.pdf\"\n",
    "\n",
    "data = []\n",
    "with pdfplumber.open(file_path) as pdf:\n",
    "    for page in pdf.pages:\n",
    "        table = page.extract_table()\n",
    "        if table:\n",
    "            data.extend(table)\n",
    "\n",
    "# Chuyển đổi dữ liệu thành DataFrame\n",
    "columns = [\"STT\", \"MSSV\", \"Họ và tên lót\", \"Tên\", \"Khoa\", \"Ngành\",\n",
    "           \"ĐRL HK1\", \"ĐRL HK2\", \"ĐTB RL NH\", \"Xếp loại RL\",\n",
    "           \"TBHT HK1\", \"TBHT HK2\", \"TBHT NH\", \"Xếp loại HT\", \"Đề nghị Danh hiệu\"]\n",
    "df = pd.DataFrame(data[1:], columns=columns)\n",
    "\n",
    "# Kiểm tra dữ liệu\n",
    "print(df.head())\n",
    "\n",
    "# Chuyển các giá trị thập phân từ dấu phẩy sang dấu chấm\n",
    "def convert_decimal(value):\n",
    "    try:\n",
    "        return float(value.replace(',', '.'))\n",
    "    except:\n",
    "        return np.nan\n",
    "\n",
    "numeric_columns = [\"ĐRL HK1\", \"ĐRL HK2\", \"ĐTB RL NH\", \"TBHT HK1\", \"TBHT HK2\", \"TBHT NH\"]\n",
    "for col in numeric_columns:\n",
    "    df[col] = df[col].apply(convert_decimal)\n",
    "\n",
    "# Loại bỏ các hàng không hợp lệ\n",
    "df = df.dropna(subset=[\"ĐTB RL NH\", \"TBHT NH\", \"Đề nghị Danh hiệu\"])\n",
    "\n",
    "# Đổi tên các cột để dễ thao tác\n",
    "df = df.rename(columns={\n",
    "    \"ĐTB RL NH\": \"average_behavior_score\",\n",
    "    \"TBHT NH\": \"average_academic_score\",\n",
    "    \"Đề nghị Danh hiệu\": \"label\"\n",
    "})\n",
    "\n",
    "# Giữ lại các cột quan trọng\n",
    "df = df[[\"average_behavior_score\", \"average_academic_score\", \"label\"]]\n",
    "\n",
    "# Kiểm tra dữ liệu sau khi xử lý\n",
    "print(df.head())\n"
   ]
  },
  {
   "cell_type": "code",
   "execution_count": 3,
   "metadata": {},
   "outputs": [
    {
     "name": "stdout",
     "output_type": "stream",
     "text": [
      "              precision    recall  f1-score   support\n",
      "\n",
      "           0       0.57      0.80      0.67         5\n",
      "           2       0.86      0.67      0.75         9\n",
      "\n",
      "    accuracy                           0.71        14\n",
      "   macro avg       0.71      0.73      0.71        14\n",
      "weighted avg       0.76      0.71      0.72        14\n",
      "\n",
      "Mapping: {'Học bổng SV nỗ lực': 0, 'Học bổng SV tài năng': 1, 'Khen thưởng SV giỏi': 2}\n"
     ]
    }
   ],
   "source": [
    "from sklearn.model_selection import train_test_split\n",
    "from sklearn.ensemble import RandomForestClassifier\n",
    "from sklearn.preprocessing import LabelEncoder\n",
    "from sklearn.metrics import classification_report\n",
    "\n",
    "# Mã hóa nhãn (label)\n",
    "label_encoder = LabelEncoder()\n",
    "df['label_encoded'] = label_encoder.fit_transform(df['label'])\n",
    "\n",
    "# Tách dữ liệu thành tập train và test\n",
    "X = df[[\"average_behavior_score\", \"average_academic_score\"]]\n",
    "y = df[\"label_encoded\"]\n",
    "\n",
    "X_train, X_test, y_train, y_test = train_test_split(X, y, test_size=0.3, random_state=42)\n",
    "\n",
    "# Huấn luyện mô hình Random Forest\n",
    "model = RandomForestClassifier(random_state=42)\n",
    "model.fit(X_train, y_train)\n",
    "\n",
    "# Đánh giá mô hình\n",
    "y_pred = model.predict(X_test)\n",
    "print(classification_report(y_test, y_pred))\n",
    "\n",
    "# Lưu thông tin để sử dụng sau\n",
    "label_mapping = dict(zip(label_encoder.classes_, label_encoder.transform(label_encoder.classes_)))\n",
    "print(\"Mapping:\", label_mapping)\n"
   ]
  },
  {
   "cell_type": "code",
   "execution_count": 6,
   "metadata": {},
   "outputs": [
    {
     "data": {
      "text/plain": [
       "['trained_model.pkl']"
      ]
     },
     "execution_count": 6,
     "metadata": {},
     "output_type": "execute_result"
    }
   ],
   "source": [
    "import joblib\n",
    "joblib.dump(model, \"trained_model.pkl\")"
   ]
  },
  {
   "cell_type": "code",
   "execution_count": 7,
   "metadata": {},
   "outputs": [
    {
     "name": "stderr",
     "output_type": "stream",
     "text": [
      "2024-12-07 22:04:53.748 \n",
      "  \u001b[33m\u001b[1mWarning:\u001b[0m to view this Streamlit app on a browser, run it with the following\n",
      "  command:\n",
      "\n",
      "    streamlit run C:\\Users\\ihatesea\\AppData\\Roaming\\Python\\Python312\\site-packages\\ipykernel_launcher.py [ARGUMENTS]\n"
     ]
    }
   ],
   "source": [
    "import streamlit as st\n",
    "import numpy as np\n",
    "\n",
    "# Load mô hình và mapping nhãn\n",
    "import joblib\n",
    "model = joblib.load(\"trained_model.pkl\")\n",
    "label_mapping = {'Học bổng SV nỗ lực': 0, 'Học bổng SV tài năng': 1, 'Khen thưởng SV giỏi': 2}\n",
    "reverse_label_mapping = {v: k for k, v in label_mapping.items()}\n",
    "\n",
    "# Tiêu đề ứng dụng\n",
    "st.title(\"Dự Đoán Danh Hiệu Sinh Viên\")\n",
    "\n",
    "# Nhập liệu từ người dùng\n",
    "behavior_score = st.number_input(\"Nhập điểm rèn luyện (ĐRL)\", min_value=0.0, max_value=100.0, step=0.1)\n",
    "academic_score = st.number_input(\"Nhập GPA (TBHT)\", min_value=0.0, max_value=4.0, step=0.1)\n",
    "\n",
    "# Dự đoán khi người dùng nhấn nút\n",
    "if st.button(\"Dự Đoán\"):\n",
    "    # Chuẩn hóa dữ liệu\n",
    "    input_data = np.array([[behavior_score, academic_score]])\n",
    "    prediction = model.predict(input_data)\n",
    "    predicted_label = reverse_label_mapping[prediction[0]]\n",
    "    \n",
    "    # Hiển thị kết quả\n",
    "    st.success(f\"Loại danh hiệu dự đoán: {predicted_label}\")\n"
   ]
  },
  {
   "cell_type": "code",
   "execution_count": 8,
   "metadata": {},
   "outputs": [
    {
     "ename": "SyntaxError",
     "evalue": "invalid syntax (507122745.py, line 1)",
     "output_type": "error",
     "traceback": [
      "\u001b[1;36m  Cell \u001b[1;32mIn[8], line 1\u001b[1;36m\u001b[0m\n\u001b[1;33m    streamlit run app.py\u001b[0m\n\u001b[1;37m              ^\u001b[0m\n\u001b[1;31mSyntaxError\u001b[0m\u001b[1;31m:\u001b[0m invalid syntax\n"
     ]
    }
   ],
   "source": [
    "streamlit run app.py\n"
   ]
  }
 ],
 "metadata": {
  "kernelspec": {
   "display_name": "base",
   "language": "python",
   "name": "python3"
  },
  "language_info": {
   "codemirror_mode": {
    "name": "ipython",
    "version": 3
   },
   "file_extension": ".py",
   "mimetype": "text/x-python",
   "name": "python",
   "nbconvert_exporter": "python",
   "pygments_lexer": "ipython3",
   "version": "3.12.4"
  }
 },
 "nbformat": 4,
 "nbformat_minor": 2
}
